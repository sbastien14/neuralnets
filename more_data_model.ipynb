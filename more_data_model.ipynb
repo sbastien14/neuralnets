{
 "cells": [
  {
   "cell_type": "code",
   "execution_count": 116,
   "id": "1eab3b6d",
   "metadata": {},
   "outputs": [],
   "source": [
    "import cv2\n",
    "from enum import Enum\n",
    "import geopy.distance\n",
    "from io import BytesIO\n",
    "import numpy as np\n",
    "import matplotlib.pyplot as plt\n",
    "from PIL import Image\n",
    "from scipy.ndimage import gaussian_filter\n",
    "import tarfile\n",
    "import tensorflow as tf\n",
    "\n",
    "\n",
    "class Cities(Enum):\n",
    "    AMSTERDAM = \"AMSTERDAM\"\n",
    "    CHICAGO = \"CHICAGO\"\n",
    "    FLORENCE = \"FLORENCE\"\n",
    "    LAS_VEGAS = \"LAS_VEGAS\"\n",
    "    NEW_YORK = \"NEW_YORK\"\n",
    "    PARIS = \"PARIS\"\n",
    "    SAN_FRANCISCO = \"SAN_FRANCISCO\"\n",
    "    WASHINGTON_DC = \"WASHINGTON_DC\"\n",
    "\n",
    "\n",
    "class CityCoords():\n",
    "\n",
    "    def __init__(self):\n",
    "        \"\"\"Initialize object to handle coordinate-related calculations.\"\"\"\n",
    "        self.coords = {\n",
    "            Cities.AMSTERDAM: (52.3676, 4.9041),\n",
    "            Cities.CHICAGO: (41.8781, -87.6298),\n",
    "            Cities.FLORENCE: (43.7696, 11.2558),\n",
    "            Cities.LAS_VEGAS: (36.1716, -115.1391),\n",
    "            Cities.NEW_YORK: (40.7128, -74.0060),\n",
    "            Cities.PARIS: (48.8566, 2.3522),\n",
    "            Cities.SAN_FRANCISCO: (37.7749, -122.4194),\n",
    "            Cities.WASHINGTON_DC: (38.9072, -77.0369)\n",
    "        }\n",
    "\n",
    "    def closest_city(self, unknown_coords):\n",
    "        \"\"\"Given the coords of an unknown city, return the closest city.\"\"\"\n",
    "        closest_city = None\n",
    "        closest_dist = float(\"inf\")\n",
    "        for city in self.coords:\n",
    "            dist = geopy.distance.geodesic(\n",
    "                unknown_coords, self.coords[city]).km\n",
    "            if dist < closest_dist:\n",
    "                closest_dist = dist\n",
    "                closest_city = city\n",
    "        return closest_city\n",
    "\n",
    "\n",
    "class StreetViewTarProcessor:\n",
    "\n",
    "    def __init__(self):\n",
    "        pass\n",
    "\n",
    "    def store_tar_file(self, tar_file_name, dest_path, max_img_to_save=float(\"inf\"), resize_data=None, grayscale=False):\n",
    "        \"\"\"\n",
    "        Given a path to a tar file containing Street View data, vectorizes images and compresses them to .npz binary file.\n",
    "            tar_file_name: The path of the tar file. Ex: \"./0002.tar\"\n",
    "            dest_path: The path for the .npz file to be stored at. Ex: \"./VectorFiles/0002\"\n",
    "            max_img_to_save: The number of images that should be saved. If unspecified, all images are saved.\n",
    "            resize_data: If unspecified, images are 640x640. If specified, resizes data to dimension. Ex: resize_data=32 (32x32 img)\n",
    "            grayscale: Determines if images should be stored as grayscale.\n",
    "        \"\"\"\n",
    "\n",
    "        # Open tar file.\n",
    "        tar = tarfile.open(tar_file_name)\n",
    "        print(f\"Opened tarfile {tar_file_name}.\")\n",
    "\n",
    "        # Validate tar members.\n",
    "        unvalidated_tar_members = {m.name: m for m in tar.getmembers()}\n",
    "        valid_member_names = self._get_valid_member_names(\n",
    "            unvalidated_tar_members)\n",
    "        print(\n",
    "            f\"Validated {len(valid_member_names)} tar members from tarfile {tar_file_name}.\")\n",
    "\n",
    "        # Sample a tar member to determine the city of the dataset.\n",
    "        sample_valid_member = next(iter(valid_member_names))\n",
    "        sample_f = tar.extractfile(\n",
    "            unvalidated_tar_members[sample_valid_member+\".txt\"])\n",
    "        city = self._retrieve_city(sample_f.read().decode(\"utf-8\"))\n",
    "\n",
    "        # Preserve only .jpg data, discarding .txt data.\n",
    "        if max_img_to_save > len(valid_member_names):\n",
    "            max_img_to_save = len(valid_member_names)\n",
    "        valid_jpg_names = [m for m in unvalidated_tar_members if m[:-4]\n",
    "                           in valid_member_names and m.endswith(\".jpg\")]\n",
    "\n",
    "        img_vectors = []\n",
    "        for i in range(max_img_to_save):\n",
    "            img_vector = plt.imread(tar.extractfile(\n",
    "                unvalidated_tar_members[valid_jpg_names[i]]))\n",
    "            if resize_data:\n",
    "                img_vector = cv2.resize(img_vector, dsize=(\n",
    "                    resize_data, resize_data), interpolation=cv2.INTER_AREA)\n",
    "            # converts image to grayscale and extends vectors\n",
    "            if grayscale:\n",
    "                img_vector = cv2.cvtColor(img_vector, cv2.COLOR_RGB2GRAY)\n",
    "                img_vector = np.expand_dims(img_vector, -1)\n",
    "                img_vector = img_vector.repeat(3, axis=-1)\n",
    "            img_vectors.append(img_vector)\n",
    "\n",
    "        print(\n",
    "            f\"Processed {len(img_vectors)} image vectors from tarfile {tar_file_name}.\")\n",
    "\n",
    "        # Store as a compressed binary file.\n",
    "        np.savez_compressed(f\"{dest_path}-{city.value}\",\n",
    "                            np.asarray(img_vectors))\n",
    "        print(\n",
    "            f\"Saved data from tarfile {tar_file_name} to {dest_path}-{city.value}.\")\n",
    "\n",
    "        tar.close()\n",
    "\n",
    "    def load_tar_file(self, input_path):\n",
    "        \"\"\"Given a path to a .npz file containing Street View data, extracts the data.\"\"\"\n",
    "        return np.load(input_path)['arr_0']\n",
    "\n",
    "    def display_img_from_vector(self, img_vector, is_grayscale=False):\n",
    "        \"\"\"Given an image vector, displays the image.\"\"\"\n",
    "        if is_grayscale:\n",
    "            plt.imshow(img_vector, cmap=\"gray\")\n",
    "        else:\n",
    "            plt.imshow(img_vector, interpolation=\"nearest\")\n",
    "        plt.show()\n",
    "\n",
    "    def gaussian_blur(self, img_vector, sigma, convert_to_grayscale):\n",
    "        \"\"\"Given an image vector, returns an image vector with a gaussian blur of intensity sigma applied.\"\"\"\n",
    "        if convert_to_grayscale:\n",
    "            return gaussian_filter(img_vector, sigma)\n",
    "        return gaussian_filter(img_vector, sigma=(sigma,sigma,0))\n",
    "\n",
    "    def _retrieve_city(self, text_data):\n",
    "        \"\"\"Given a tar member name, returns the city associated with the tar file.\"\"\"\n",
    "        # Extract coordinates from some image. All images in single tar file have same city.\n",
    "        google_metadata = text_data.split(\"\\n\")[0]\n",
    "        coords = tuple([float(coord)\n",
    "                       for coord in google_metadata.split()[11:13]])\n",
    "\n",
    "        # Determine closest city.\n",
    "        return CityCoords().closest_city(coords)\n",
    "\n",
    "    def _get_valid_member_names(self, tar_members):\n",
    "        \"\"\"Given tar members, find and return valid txt-jpg pairs.\"\"\"\n",
    "        tar_names = list(tar_members.keys())\n",
    "        valid_tar_member_names = set()\n",
    "        while len(tar_names) > 0:\n",
    "            tar_name = tar_names[-1]\n",
    "\n",
    "            # Check that ending is valid -- either jpg or txt.\n",
    "            if not (tar_name.endswith(\".jpg\") or tar_name.endswith(\".txt\")):\n",
    "                tar_names.pop()\n",
    "                continue\n",
    "\n",
    "            # Try to find match -- members should come in txt-jpg pairs.\n",
    "            target_name = tar_name[:-3] + \\\n",
    "                \"txt\" if tar_name.endswith(\".jpg\") else tar_name[:-3] + \"jpg\"\n",
    "            try:\n",
    "                i = tar_names.index(target_name)\n",
    "\n",
    "            except:\n",
    "                tar_names.pop()\n",
    "                continue\n",
    "\n",
    "            # Tar members form valid pair.\n",
    "            valid_tar_member_names.add(tar_name[:-4])\n",
    "            tar_names.pop(i)\n",
    "            tar_names.pop()\n",
    "\n",
    "        return valid_tar_member_names"
   ]
  },
  {
   "cell_type": "code",
   "execution_count": 139,
   "id": "a5a60a4b",
   "metadata": {},
   "outputs": [
    {
     "name": "stdout",
     "output_type": "stream",
     "text": [
      "Opened tarfile /Users/samanthabastien/PycharmProjects/final project/fpd/main data/new york/0069.tar.\n",
      "Validated 232846 tar members from tarfile /Users/samanthabastien/PycharmProjects/final project/fpd/main data/new york/0069.tar.\n",
      "Processed 250 image vectors from tarfile /Users/samanthabastien/PycharmProjects/final project/fpd/main data/new york/0069.tar.\n",
      "Saved data from tarfile /Users/samanthabastien/PycharmProjects/final project/fpd/main data/new york/0069.tar to /Users/samanthabastien/PycharmProjects/final project/fpd/main data/new york-NEW_YORK.\n",
      "Opened tarfile /Users/samanthabastien/PycharmProjects/final project/fpd/main data/washington dc/0002.tar.\n",
      "Validated 63026 tar members from tarfile /Users/samanthabastien/PycharmProjects/final project/fpd/main data/washington dc/0002.tar.\n",
      "Processed 250 image vectors from tarfile /Users/samanthabastien/PycharmProjects/final project/fpd/main data/washington dc/0002.tar.\n",
      "Saved data from tarfile /Users/samanthabastien/PycharmProjects/final project/fpd/main data/washington dc/0002.tar to /Users/samanthabastien/PycharmProjects/final project/fpd/main data/washington dc-WASHINGTON_DC.\n"
     ]
    }
   ],
   "source": [
    "processor = StreetViewTarProcessor()\n",
    "processor.store_tar_file(\n",
    "        \"/Users/samanthabastien/PycharmProjects/final project/fpd/main data/new york/0069.tar\", \"/Users/samanthabastien/PycharmProjects/final project/fpd/main data/new york\", 250, grayscale = False)\n",
    "processor.store_tar_file(\n",
    "        \"/Users/samanthabastien/PycharmProjects/final project/fpd/main data/washington dc/0002.tar\", \"/Users/samanthabastien/PycharmProjects/final project/fpd/main data/washington dc\", 250, grayscale = False)"
   ]
  },
  {
   "cell_type": "code",
   "execution_count": 140,
   "id": "c4afdbb6",
   "metadata": {},
   "outputs": [],
   "source": [
    "import numpy as np\n",
    "import matplotlib.pyplot as plt\n",
    "import os\n",
    "\n",
    "# Libraries for TensorFlow\n",
    "from tensorflow.keras.utils import to_categorical\n",
    "from tensorflow.keras.preprocessing import image\n",
    "from tensorflow.keras import models, layers\n",
    "\n",
    "# Library for Transfer Learning\n",
    "from tensorflow.keras.applications import resnet50"
   ]
  },
  {
   "cell_type": "code",
   "execution_count": 141,
   "id": "b9df0532",
   "metadata": {},
   "outputs": [
    {
     "data": {
      "text/plain": [
       "['new york-NEW_YORK.npz',\n",
       " '.DS_Store',\n",
       " 'washington dc-WASHINGTON_DC.npz',\n",
       " 'new york',\n",
       " 'washington dc']"
      ]
     },
     "execution_count": 141,
     "metadata": {},
     "output_type": "execute_result"
    }
   ],
   "source": [
    "class_names=os.listdir(\"/Users/samanthabastien/PycharmProjects/final project/fpd/main data/\")\n",
    "class_names"
   ]
  },
  {
   "cell_type": "code",
   "execution_count": 142,
   "id": "999c3182",
   "metadata": {},
   "outputs": [
    {
     "data": {
      "text/plain": [
       "['new york-NEW_YORK.npz',\n",
       " 'washington dc-WASHINGTON_DC.npz',\n",
       " 'new york',\n",
       " 'washington dc']"
      ]
     },
     "execution_count": 142,
     "metadata": {},
     "output_type": "execute_result"
    }
   ],
   "source": [
    "# deletes unneeded class\n",
    "class_names.remove('.DS_Store')\n",
    "class_names"
   ]
  },
  {
   "cell_type": "code",
   "execution_count": 143,
   "id": "8cda199b",
   "metadata": {},
   "outputs": [],
   "source": [
    "y=[] # to store the labels of the images\n",
    "z=[]"
   ]
  },
  {
   "cell_type": "code",
   "execution_count": 146,
   "id": "1bbb1178",
   "metadata": {},
   "outputs": [],
   "source": [
    "#paths where npz files are stored\n",
    "path1 = \"/Users/samanthabastien/PycharmProjects/final project/fpd/main data/new york/new york-NEW_YORK-250.npz\"\n",
    "path2 = \"/Users/samanthabastien/PycharmProjects/final project/fpd/main data/washington dc/washington dc-WASHINGTON_DC-250.npz\""
   ]
  },
  {
   "cell_type": "code",
   "execution_count": 147,
   "id": "dad401b9",
   "metadata": {
    "scrolled": true
   },
   "outputs": [],
   "source": [
    "vectors1 = np.load(path1, allow_pickle=True)['arr_0']\n",
    "np.random.shuffle(vectors1)\n",
    "train_x1, val_x1 = np.split(vectors1, 2)\n",
    "\n",
    "\n",
    "train_y1 = y[:len(y)//2]\n",
    "train_y2 = y[len(y)//2:]\n",
    "\n",
    "vectors2 = np.load(path2, allow_pickle=True)['arr_0']\n",
    "np.random.shuffle(vectors2)\n",
    "train_x2, val_x2 = np.split(vectors2, 2)\n",
    "\n",
    "\n",
    "train_x = np.concatenate((train_x1, train_x2), axis=0)\n",
    "val_x = np.concatenate((val_x1, val_x2), axis=0)\n",
    "train_z1 = z[:len(z)//2]\n",
    "train_z2 = z[len(z)//2:]\n",
    "\n"
   ]
  },
  {
   "cell_type": "code",
   "execution_count": 148,
   "id": "d7ce4640",
   "metadata": {},
   "outputs": [
    {
     "data": {
      "text/plain": [
       "(250, 640, 640, 3)"
      ]
     },
     "execution_count": 148,
     "metadata": {},
     "output_type": "execute_result"
    }
   ],
   "source": [
    "train_x.shape"
   ]
  },
  {
   "cell_type": "code",
   "execution_count": 149,
   "id": "0339216c",
   "metadata": {},
   "outputs": [
    {
     "data": {
      "text/plain": [
       "250"
      ]
     },
     "execution_count": 149,
     "metadata": {},
     "output_type": "execute_result"
    }
   ],
   "source": [
    "for index in range(np.size(train_x, axis=0)):\n",
    "    y.append(class_names.index('new york'))\n",
    "for index in range(np.size(train_x, axis=0)):\n",
    "    z.append(class_names.index('washington dc'))\n",
    "train_y1 = y[:len(y)//2]\n",
    "val_y1 = y[len(y)//2:]  \n",
    "train_z1 = z[:len(z)//2]\n",
    "val_z2 = z[len(z)//2:]\n",
    "\n",
    "train_y = train_y1+ train_z1\n",
    "val_y = val_y1 + val_z2\n",
    "\n",
    "\n",
    "    \n",
    "len(y)"
   ]
  },
  {
   "cell_type": "code",
   "execution_count": 150,
   "id": "410b34d6",
   "metadata": {},
   "outputs": [
    {
     "name": "stdout",
     "output_type": "stream",
     "text": [
      "Training Dataset\n",
      "(250, 4)\n"
     ]
    }
   ],
   "source": [
    "# Verifying the output\n",
    "\n",
    "# Training Dataset\n",
    "print(\"Training Dataset\")\n",
    "\n",
    "train_y=to_categorical(train_y) # onehot encoding of the labels\n",
    "print(train_y.shape)"
   ]
  },
  {
   "cell_type": "code",
   "execution_count": 151,
   "id": "f82e04e4",
   "metadata": {},
   "outputs": [],
   "source": [
    "# we are using resnet50 for transfer learnin here. So we have imported it\n",
    "from tensorflow.keras.applications import resnet50\n",
    "\n",
    "# initializing model with weights='imagenet'i.e. we are carring its original weights\n",
    "model_resnet=resnet50.ResNet50(weights='imagenet')"
   ]
  },
  {
   "cell_type": "code",
   "execution_count": 152,
   "id": "fafefbc8",
   "metadata": {},
   "outputs": [],
   "source": [
    "input_layer=layers.Input(shape=(640,640,3))"
   ]
  },
  {
   "cell_type": "code",
   "execution_count": 153,
   "id": "7df0b238",
   "metadata": {},
   "outputs": [],
   "source": [
    "from keras.layers import Dropout"
   ]
  },
  {
   "cell_type": "code",
   "execution_count": 154,
   "id": "aa5bf119",
   "metadata": {},
   "outputs": [],
   "source": [
    "# initialize the transfer model ResNet50 with appropriate properties per our need.\n",
    "# we are passing paramers as following\n",
    "# 1) weights='imagenet' - Using this we are carring weights as of original weights.\n",
    "# 2) input_tensor to pass the ResNet50 using input_tensor\n",
    "# 3) we want to change the last layer so we are not including top layer\n",
    "resnet_model=resnet50.ResNet50(weights='imagenet',input_tensor=input_layer,include_top=False)\n"
   ]
  },
  {
   "cell_type": "code",
   "execution_count": 155,
   "id": "33c8fe87",
   "metadata": {},
   "outputs": [],
   "source": [
    "last_layer=resnet_model.output # we are taking last layer of the model\n",
    "\n",
    "# Add flatten layer: we are extending Neural Network by adding flattn layer\n",
    "flatten=layers.Flatten()(last_layer) \n",
    "\n",
    "\n",
    "# Add dense layer\n",
    "dense1=layers.Dense(100,activation='relu')(flatten)\n",
    "x = layers.Dropout(0.2)(dense1)\n",
    "# Add dense layer to the final output layer\n",
    "output_layer=layers.Dense(2,activation='softmax')(x)\n",
    "\n",
    "# Creating modle with input and output layer\n",
    "model=models.Model(inputs=input_layer,outputs=output_layer)"
   ]
  },
  {
   "cell_type": "code",
   "execution_count": 156,
   "id": "1433ae06",
   "metadata": {},
   "outputs": [],
   "source": [
    "for layer in model.layers[:-1]:\n",
    "    layer.trainable=False"
   ]
  },
  {
   "cell_type": "code",
   "execution_count": 158,
   "id": "64992750",
   "metadata": {},
   "outputs": [
    {
     "name": "stdout",
     "output_type": "stream",
     "text": [
      "Splitting data for train and test completed.\n"
     ]
    }
   ],
   "source": [
    "from sklearn.model_selection import train_test_split\n",
    "xtrain, xtest, ytrain, ytest = train_test_split(train_x,train_y,test_size=0.2,random_state=5)\n",
    "\n",
    "print(\"Splitting data for train and test completed.\")"
   ]
  },
  {
   "cell_type": "code",
   "execution_count": 159,
   "id": "21d6d310",
   "metadata": {},
   "outputs": [
    {
     "name": "stdout",
     "output_type": "stream",
     "text": [
      "(200, 640, 640, 3)\n",
      "(200, 4)\n"
     ]
    }
   ],
   "source": [
    "print(xtrain.shape)\n",
    "print(ytrain.shape)"
   ]
  },
  {
   "cell_type": "code",
   "execution_count": 160,
   "id": "fba0e694",
   "metadata": {},
   "outputs": [
    {
     "name": "stdout",
     "output_type": "stream",
     "text": [
      "Model compilation completed.\n"
     ]
    }
   ],
   "source": [
    "model.compile(loss='categorical_crossentropy', optimizer='adam',metrics=['accuracy'])\n",
    "\n",
    "print(\"Model compilation completed.\")"
   ]
  },
  {
   "cell_type": "code",
   "execution_count": 161,
   "id": "7c9a2ef1",
   "metadata": {
    "scrolled": false
   },
   "outputs": [
    {
     "name": "stdout",
     "output_type": "stream",
     "text": [
      "Epoch 1/20\n"
     ]
    },
    {
     "ename": "ValueError",
     "evalue": "in user code:\n\n    File \"/Users/samanthabastien/opt/anaconda3/lib/python3.9/site-packages/keras/engine/training.py\", line 1160, in train_function  *\n        return step_function(self, iterator)\n    File \"/Users/samanthabastien/opt/anaconda3/lib/python3.9/site-packages/keras/engine/training.py\", line 1146, in step_function  **\n        outputs = model.distribute_strategy.run(run_step, args=(data,))\n    File \"/Users/samanthabastien/opt/anaconda3/lib/python3.9/site-packages/keras/engine/training.py\", line 1135, in run_step  **\n        outputs = model.train_step(data)\n    File \"/Users/samanthabastien/opt/anaconda3/lib/python3.9/site-packages/keras/engine/training.py\", line 994, in train_step\n        loss = self.compute_loss(x, y, y_pred, sample_weight)\n    File \"/Users/samanthabastien/opt/anaconda3/lib/python3.9/site-packages/keras/engine/training.py\", line 1052, in compute_loss\n        return self.compiled_loss(\n    File \"/Users/samanthabastien/opt/anaconda3/lib/python3.9/site-packages/keras/engine/compile_utils.py\", line 265, in __call__\n        loss_value = loss_obj(y_t, y_p, sample_weight=sw)\n    File \"/Users/samanthabastien/opt/anaconda3/lib/python3.9/site-packages/keras/losses.py\", line 152, in __call__\n        losses = call_fn(y_true, y_pred)\n    File \"/Users/samanthabastien/opt/anaconda3/lib/python3.9/site-packages/keras/losses.py\", line 272, in call  **\n        return ag_fn(y_true, y_pred, **self._fn_kwargs)\n    File \"/Users/samanthabastien/opt/anaconda3/lib/python3.9/site-packages/keras/losses.py\", line 1990, in categorical_crossentropy\n        return backend.categorical_crossentropy(\n    File \"/Users/samanthabastien/opt/anaconda3/lib/python3.9/site-packages/keras/backend.py\", line 5529, in categorical_crossentropy\n        target.shape.assert_is_compatible_with(output.shape)\n\n    ValueError: Shapes (None, 4) and (None, 2) are incompatible\n",
     "output_type": "error",
     "traceback": [
      "\u001b[0;31m---------------------------------------------------------------------------\u001b[0m",
      "\u001b[0;31mValueError\u001b[0m                                Traceback (most recent call last)",
      "Input \u001b[0;32mIn [161]\u001b[0m, in \u001b[0;36m<cell line: 1>\u001b[0;34m()\u001b[0m\n\u001b[0;32m----> 1\u001b[0m data \u001b[38;5;241m=\u001b[39m \u001b[43mmodel\u001b[49m\u001b[38;5;241;43m.\u001b[39;49m\u001b[43mfit\u001b[49m\u001b[43m(\u001b[49m\u001b[43mxtrain\u001b[49m\u001b[43m,\u001b[49m\u001b[43mytrain\u001b[49m\u001b[43m,\u001b[49m\u001b[43mepochs\u001b[49m\u001b[38;5;241;43m=\u001b[39;49m\u001b[38;5;241;43m20\u001b[39;49m\u001b[43m,\u001b[49m\u001b[43mbatch_size\u001b[49m\u001b[38;5;241;43m=\u001b[39;49m\u001b[38;5;241;43m64\u001b[39;49m\u001b[43m,\u001b[49m\u001b[43mverbose\u001b[49m\u001b[38;5;241;43m=\u001b[39;49m\u001b[38;5;28;43;01mTrue\u001b[39;49;00m\u001b[43m,\u001b[49m\u001b[43mvalidation_data\u001b[49m\u001b[38;5;241;43m=\u001b[39;49m\u001b[43m(\u001b[49m\u001b[43mxtest\u001b[49m\u001b[43m,\u001b[49m\u001b[43mytest\u001b[49m\u001b[43m)\u001b[49m\u001b[43m)\u001b[49m\n\u001b[1;32m      3\u001b[0m \u001b[38;5;28mprint\u001b[39m(\u001b[38;5;124m\"\u001b[39m\u001b[38;5;124mFitting the model completed.\u001b[39m\u001b[38;5;124m\"\u001b[39m)\n",
      "File \u001b[0;32m~/opt/anaconda3/lib/python3.9/site-packages/keras/utils/traceback_utils.py:70\u001b[0m, in \u001b[0;36mfilter_traceback.<locals>.error_handler\u001b[0;34m(*args, **kwargs)\u001b[0m\n\u001b[1;32m     67\u001b[0m     filtered_tb \u001b[38;5;241m=\u001b[39m _process_traceback_frames(e\u001b[38;5;241m.\u001b[39m__traceback__)\n\u001b[1;32m     68\u001b[0m     \u001b[38;5;66;03m# To get the full stack trace, call:\u001b[39;00m\n\u001b[1;32m     69\u001b[0m     \u001b[38;5;66;03m# `tf.debugging.disable_traceback_filtering()`\u001b[39;00m\n\u001b[0;32m---> 70\u001b[0m     \u001b[38;5;28;01mraise\u001b[39;00m e\u001b[38;5;241m.\u001b[39mwith_traceback(filtered_tb) \u001b[38;5;28;01mfrom\u001b[39;00m \u001b[38;5;28mNone\u001b[39m\n\u001b[1;32m     71\u001b[0m \u001b[38;5;28;01mfinally\u001b[39;00m:\n\u001b[1;32m     72\u001b[0m     \u001b[38;5;28;01mdel\u001b[39;00m filtered_tb\n",
      "File \u001b[0;32m/var/folders/m_/p8_lfkkn7k9209w5x8zcbn3m0000gn/T/__autograph_generated_filez92azb_z.py:15\u001b[0m, in \u001b[0;36mouter_factory.<locals>.inner_factory.<locals>.tf__train_function\u001b[0;34m(iterator)\u001b[0m\n\u001b[1;32m     13\u001b[0m \u001b[38;5;28;01mtry\u001b[39;00m:\n\u001b[1;32m     14\u001b[0m     do_return \u001b[38;5;241m=\u001b[39m \u001b[38;5;28;01mTrue\u001b[39;00m\n\u001b[0;32m---> 15\u001b[0m     retval_ \u001b[38;5;241m=\u001b[39m ag__\u001b[38;5;241m.\u001b[39mconverted_call(ag__\u001b[38;5;241m.\u001b[39mld(step_function), (ag__\u001b[38;5;241m.\u001b[39mld(\u001b[38;5;28mself\u001b[39m), ag__\u001b[38;5;241m.\u001b[39mld(iterator)), \u001b[38;5;28;01mNone\u001b[39;00m, fscope)\n\u001b[1;32m     16\u001b[0m \u001b[38;5;28;01mexcept\u001b[39;00m:\n\u001b[1;32m     17\u001b[0m     do_return \u001b[38;5;241m=\u001b[39m \u001b[38;5;28;01mFalse\u001b[39;00m\n",
      "\u001b[0;31mValueError\u001b[0m: in user code:\n\n    File \"/Users/samanthabastien/opt/anaconda3/lib/python3.9/site-packages/keras/engine/training.py\", line 1160, in train_function  *\n        return step_function(self, iterator)\n    File \"/Users/samanthabastien/opt/anaconda3/lib/python3.9/site-packages/keras/engine/training.py\", line 1146, in step_function  **\n        outputs = model.distribute_strategy.run(run_step, args=(data,))\n    File \"/Users/samanthabastien/opt/anaconda3/lib/python3.9/site-packages/keras/engine/training.py\", line 1135, in run_step  **\n        outputs = model.train_step(data)\n    File \"/Users/samanthabastien/opt/anaconda3/lib/python3.9/site-packages/keras/engine/training.py\", line 994, in train_step\n        loss = self.compute_loss(x, y, y_pred, sample_weight)\n    File \"/Users/samanthabastien/opt/anaconda3/lib/python3.9/site-packages/keras/engine/training.py\", line 1052, in compute_loss\n        return self.compiled_loss(\n    File \"/Users/samanthabastien/opt/anaconda3/lib/python3.9/site-packages/keras/engine/compile_utils.py\", line 265, in __call__\n        loss_value = loss_obj(y_t, y_p, sample_weight=sw)\n    File \"/Users/samanthabastien/opt/anaconda3/lib/python3.9/site-packages/keras/losses.py\", line 152, in __call__\n        losses = call_fn(y_true, y_pred)\n    File \"/Users/samanthabastien/opt/anaconda3/lib/python3.9/site-packages/keras/losses.py\", line 272, in call  **\n        return ag_fn(y_true, y_pred, **self._fn_kwargs)\n    File \"/Users/samanthabastien/opt/anaconda3/lib/python3.9/site-packages/keras/losses.py\", line 1990, in categorical_crossentropy\n        return backend.categorical_crossentropy(\n    File \"/Users/samanthabastien/opt/anaconda3/lib/python3.9/site-packages/keras/backend.py\", line 5529, in categorical_crossentropy\n        target.shape.assert_is_compatible_with(output.shape)\n\n    ValueError: Shapes (None, 4) and (None, 2) are incompatible\n"
     ]
    }
   ],
   "source": [
    "data = model.fit(xtrain,ytrain,epochs=20,batch_size=64,verbose=True,validation_data=(xtest,ytest))\n",
    "\n",
    "print(\"Fitting the model completed.\")"
   ]
  },
  {
   "cell_type": "code",
   "execution_count": 138,
   "id": "fb4918c4",
   "metadata": {},
   "outputs": [
    {
     "name": "stdout",
     "output_type": "stream",
     "text": [
      "dict_keys(['loss', 'accuracy', 'val_loss', 'val_accuracy'])\n"
     ]
    },
    {
     "data": {
      "image/png": "[encoded data removed]",
      "text/plain": [
       "<Figure size 432x288 with 1 Axes>"
      ]
     },
     "metadata": {
      "needs_background": "light"
     },
     "output_type": "display_data"
    },
    {
     "data": {
      "image/png": "[encoded data removed]",
      "text/plain": [
       "<Figure size 432x288 with 1 Axes>"
      ]
     },
     "metadata": {
      "needs_background": "light"
     },
     "output_type": "display_data"
    }
   ],
   "source": [
    "# creates graphs\n",
    "print(data.history.keys())\n",
    "# summarize history for accuracy\n",
    "plt.plot(data.history['accuracy'])\n",
    "plt.plot(data.history['val_accuracy'])\n",
    "plt.title('model accuracy')\n",
    "plt.ylabel('accuracy')\n",
    "plt.xlabel('epoch')\n",
    "plt.legend(['train', 'test'], loc='upper left')\n",
    "plt.show()\n",
    "# summarize history for loss\n",
    "plt.plot(data.history['loss'])\n",
    "plt.plot(data.history['val_loss'])\n",
    "plt.title('model loss')\n",
    "plt.ylabel('loss')\n",
    "plt.xlabel('epoch')\n",
    "plt.legend(['train', 'test'], loc='upper left')\n",
    "plt.show()"
   ]
  },
  {
   "cell_type": "code",
   "execution_count": null,
   "id": "14452a08",
   "metadata": {},
   "outputs": [],
   "source": []
  }
 ],
 "metadata": {
  "kernelspec": {
   "display_name": "Python 3 (ipykernel)",
   "language": "python",
   "name": "python3"
  },
  "language_info": {
   "codemirror_mode": {
    "name": "ipython",
    "version": 3
   },
   "file_extension": ".py",
   "mimetype": "text/x-python",
   "name": "python",
   "nbconvert_exporter": "python",
   "pygments_lexer": "ipython3",
   "version": "3.9.12"
  }
 },
 "nbformat": 4,
 "nbformat_minor": 5
}
